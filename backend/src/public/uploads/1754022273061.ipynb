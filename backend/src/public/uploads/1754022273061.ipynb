{
  "nbformat": 4,
  "nbformat_minor": 0,
  "metadata": {
    "colab": {
      "provenance": []
    },
    "kernelspec": {
      "name": "python3",
      "display_name": "Python 3"
    },
    "language_info": {
      "name": "python"
    }
  },
  "cells": [
    {
      "cell_type": "markdown",
      "source": [
        "# **## Lab Experiment Name: Data Preprocessing Techniques**"
      ],
      "metadata": {
        "id": "muP94U08rLGJ"
      }
    },
    {
      "cell_type": "markdown",
      "source": [
        "### **OBJECTIVES:**\n",
        "•\tTo transform raw data more easily and effectively processed in data mining, machine learning and other data science tasks.\n",
        "\n",
        "**Step 1: Import Necessary Libraries**\n",
        "\n",
        "\n",
        "*   pandas (pd): Used for handling and analyzing structured data in DataFrames.\n",
        "*  numpy (np): Provides support for numerical computations.\n",
        "\n",
        "*   sklearn.preprocessing: Includes methods for data preprocessing:\n",
        "*   LabelEncoder: Converts categorical labels into numerical values.\n",
        "\n",
        "*     OneHotEncoder: Converts categorical variables into one-hot encoded format.\n",
        "*   MinMaxScaler: Scales numerical data to a specific range (0 to 1).\n",
        "\n",
        "\n",
        "*   StandardScaler: Standardizes data by removing the mean and scaling to unit variance.\n",
        "\n",
        "## **Step 2: Load the CSV File and Display the First 5 Rows\n",
        "\n",
        "\n",
        "\n",
        "\n",
        "\n",
        "\n",
        "\n"
      ],
      "metadata": {
        "id": "gH3teHtMs74S"
      }
    },
    {
      "cell_type": "code",
      "execution_count": 10,
      "metadata": {
        "colab": {
          "base_uri": "https://localhost:8080/"
        },
        "id": "VJz4e49eP8Vq",
        "outputId": "e86ebcfa-f6d7-400c-de05-87878cf6a4a8"
      },
      "outputs": [
        {
          "output_type": "stream",
          "name": "stdout",
          "text": [
            "\n",
            "First 5 rows:\n",
            "    Id  MSSubClass MSZoning  LotFrontage  LotArea Street Alley LotShape  \\\n",
            "0   1          60       RL         65.0     8450   Pave   NaN      Reg   \n",
            "1   2          20       RL         80.0     9600   Pave   NaN      Reg   \n",
            "2   3          60       RL         68.0    11250   Pave   NaN      IR1   \n",
            "3   4          70       RL         60.0     9550   Pave   NaN      IR1   \n",
            "4   5          60       RL         84.0    14260   Pave   NaN      IR1   \n",
            "\n",
            "  LandContour Utilities  ... PoolArea PoolQC Fence MiscFeature MiscVal MoSold  \\\n",
            "0         Lvl    AllPub  ...        0    NaN   NaN         NaN       0      2   \n",
            "1         Lvl    AllPub  ...        0    NaN   NaN         NaN       0      5   \n",
            "2         Lvl    AllPub  ...        0    NaN   NaN         NaN       0      9   \n",
            "3         Lvl    AllPub  ...        0    NaN   NaN         NaN       0      2   \n",
            "4         Lvl    AllPub  ...        0    NaN   NaN         NaN       0     12   \n",
            "\n",
            "  YrSold  SaleType  SaleCondition  SalePrice  \n",
            "0   2008        WD         Normal     208500  \n",
            "1   2007        WD         Normal     181500  \n",
            "2   2008        WD         Normal     223500  \n",
            "3   2006        WD        Abnorml     140000  \n",
            "4   2008        WD         Normal     250000  \n",
            "\n",
            "[5 rows x 81 columns]\n"
          ]
        }
      ],
      "source": [
        "import pandas as pd\n",
        "import numpy as np\n",
        "from sklearn.preprocessing import LabelEncoder, OneHotEncoder, MinMaxScaler, StandardScaler\n",
        "\n",
        "df= pd.read_csv('/content/house_price_predic.csv')\n",
        "print(\"\\nFirst 5 rows:\\n\", df.head())\n",
        "\n",
        "\n"
      ]
    },
    {
      "cell_type": "markdown",
      "source": [
        "### **Display basic info about dataset**"
      ],
      "metadata": {
        "id": "7ihF9pK5s2Qo"
      }
    },
    {
      "cell_type": "code",
      "source": [
        "# Handling Missing Values\n",
        "print(\"\\nMissing Values before handling:\\n\", df.isnull().sum())\n",
        "\n"
      ],
      "metadata": {
        "colab": {
          "base_uri": "https://localhost:8080/"
        },
        "id": "JVv_YSeqdB6q",
        "outputId": "c3fe99bf-73e3-4dfa-cfd2-c00fc70693a3"
      },
      "execution_count": 12,
      "outputs": [
        {
          "output_type": "stream",
          "name": "stdout",
          "text": [
            "\n",
            "Missing Values before handling:\n",
            " Id                 0\n",
            "MSSubClass         0\n",
            "MSZoning           0\n",
            "LotFrontage      259\n",
            "LotArea            0\n",
            "                ... \n",
            "MoSold             0\n",
            "YrSold             0\n",
            "SaleType           0\n",
            "SaleCondition      0\n",
            "SalePrice          0\n",
            "Length: 81, dtype: int64\n"
          ]
        }
      ]
    },
    {
      "cell_type": "markdown",
      "source": [
        "## **Step 1: Fill Missing Values for Numerical Columns**\n",
        "\n",
        "\n",
        "*   df.select_dtypes(include=[np.number]): Selects only numerical columns from the DataFrame.\n",
        "*   .columns: Retrieves the column names.\n",
        "\n",
        "*   df[col].fillna(df[col].mean()): Replaces missing values (NaN) in each numerical column with the column's mean.\n",
        "*   This ensures that numerical columns do not have missing values, preventing errors in mathematical computations.\n",
        "\n",
        "### **Step 2: Fill Missing Values for Categorical Columns**\n",
        "\n",
        "\n",
        "*   df.select_dtypes(include=[\"object\"]): Selects categorical (string/text) columns.\n",
        "*  .mode()[0]: Finds the most frequent (mode) value in the column and replaces missing values with it.\n",
        "\n",
        "*   This ensures categorical columns have valid values without introducing numerical bias.\n",
        "\n",
        "\n",
        "\n",
        "\n",
        "\n",
        "\n",
        "\n"
      ],
      "metadata": {
        "id": "9ppZ-cDL0daZ"
      }
    },
    {
      "cell_type": "code",
      "source": [
        "\n",
        "# Fill missing values with mean (for numerical columns)\n",
        "for col in df.select_dtypes(include=[np.number]).columns:\n",
        "    df[col] = df[col].fillna(df[col].mean())\n",
        "\n",
        "# Fill missing values with mode (for categorical columns)\n",
        "for col in df.select_dtypes(include=[\"object\"]).columns:\n",
        "    df[col] = df[col].fillna(df[col].mode()[0])\n",
        "\n",
        "print(\"\\nMissing Values after handling:\\n\", df.isnull().sum())"
      ],
      "metadata": {
        "colab": {
          "base_uri": "https://localhost:8080/"
        },
        "id": "fTivqpmBdkTS",
        "outputId": "f240da19-c4b9-42ec-a900-b3c7d50ebc41"
      },
      "execution_count": 13,
      "outputs": [
        {
          "output_type": "stream",
          "name": "stdout",
          "text": [
            "\n",
            "Missing Values after handling:\n",
            " Id               0\n",
            "MSSubClass       0\n",
            "MSZoning         0\n",
            "LotFrontage      0\n",
            "LotArea          0\n",
            "                ..\n",
            "MoSold           0\n",
            "YrSold           0\n",
            "SaleType         0\n",
            "SaleCondition    0\n",
            "SalePrice        0\n",
            "Length: 81, dtype: int64\n"
          ]
        }
      ]
    },
    {
      "cell_type": "markdown",
      "source": [
        "## **# Handling Categorical Data Using One-Hot Encoding & Label Encoding bold textbold text bold text bold text**\n",
        "\n",
        "# **Step 1: Initialize a Dictionary to Store Label Encoders**\n",
        "This dictionary will store the LabelEncoder objects for each categorical column.\n",
        "Storing them helps in future transformations (if you need to reverse the encoding).\n",
        "\n",
        "## **Step 2: Apply Label Encoding to Categorical Columns**"
      ],
      "metadata": {
        "id": "5WFJoUxzAOLJ"
      }
    },
    {
      "cell_type": "code",
      "source": [
        "# Handling Categorical Data using One-Hot Encoding & Label Encoding\n",
        "label_encoders = {}\n",
        "for col in df.select_dtypes(include=[\"object\"]).columns:\n",
        "    le = LabelEncoder()\n",
        "    df[col] = le.fit_transform(df[col])\n",
        "    label_encoders[col] = le\n",
        "\n",
        "print(\"\\nCategorical Data after Label Encoding:\\n\", df.head())\n"
      ],
      "metadata": {
        "colab": {
          "base_uri": "https://localhost:8080/"
        },
        "id": "QWt_-u7-d-_6",
        "outputId": "0cb6411d-bc07-4294-8013-9439e5ed60dd"
      },
      "execution_count": 14,
      "outputs": [
        {
          "output_type": "stream",
          "name": "stdout",
          "text": [
            "\n",
            "Categorical Data after Label Encoding:\n",
            "    Id  MSSubClass  MSZoning  LotFrontage  LotArea  Street  Alley  LotShape  \\\n",
            "0   1          60         3         65.0     8450       1      0         3   \n",
            "1   2          20         3         80.0     9600       1      0         3   \n",
            "2   3          60         3         68.0    11250       1      0         0   \n",
            "3   4          70         3         60.0     9550       1      0         0   \n",
            "4   5          60         3         84.0    14260       1      0         0   \n",
            "\n",
            "   LandContour  Utilities  ...  PoolArea  PoolQC  Fence  MiscFeature  MiscVal  \\\n",
            "0            3          0  ...         0       2      2            2        0   \n",
            "1            3          0  ...         0       2      2            2        0   \n",
            "2            3          0  ...         0       2      2            2        0   \n",
            "3            3          0  ...         0       2      2            2        0   \n",
            "4            3          0  ...         0       2      2            2        0   \n",
            "\n",
            "   MoSold  YrSold  SaleType  SaleCondition  SalePrice  \n",
            "0       2    2008         8              4     208500  \n",
            "1       5    2007         8              4     181500  \n",
            "2       9    2008         8              4     223500  \n",
            "3       2    2006         8              0     140000  \n",
            "4      12    2008         8              4     250000  \n",
            "\n",
            "[5 rows x 81 columns]\n"
          ]
        }
      ]
    },
    {
      "cell_type": "code",
      "source": [
        "# Normalization using Min-Max Scaling\n",
        "scaler = MinMaxScaler()\n",
        "df[df.select_dtypes(include=[np.number]).columns] = scaler.fit_transform(df[df.select_dtypes(include=[np.number]).columns])\n",
        "\n",
        "print(\"\\nDataset after Min-Max Normalization:\\n\", df.head())\n"
      ],
      "metadata": {
        "colab": {
          "base_uri": "https://localhost:8080/"
        },
        "id": "vGz8dBoge1vU",
        "outputId": "fca84ba2-a39e-410a-e606-68d2a4800cff"
      },
      "execution_count": 15,
      "outputs": [
        {
          "output_type": "stream",
          "name": "stdout",
          "text": [
            "\n",
            "Dataset after Min-Max Normalization:\n",
            "          Id  MSSubClass  MSZoning  LotFrontage   LotArea  Street  Alley  \\\n",
            "0  0.000000    0.235294      0.75     0.150685  0.033420     1.0    0.0   \n",
            "1  0.000685    0.000000      0.75     0.202055  0.038795     1.0    0.0   \n",
            "2  0.001371    0.235294      0.75     0.160959  0.046507     1.0    0.0   \n",
            "3  0.002056    0.294118      0.75     0.133562  0.038561     1.0    0.0   \n",
            "4  0.002742    0.235294      0.75     0.215753  0.060576     1.0    0.0   \n",
            "\n",
            "   LotShape  LandContour  Utilities  ...  PoolArea  PoolQC     Fence  \\\n",
            "0       1.0          1.0        0.0  ...       0.0     1.0  0.666667   \n",
            "1       1.0          1.0        0.0  ...       0.0     1.0  0.666667   \n",
            "2       0.0          1.0        0.0  ...       0.0     1.0  0.666667   \n",
            "3       0.0          1.0        0.0  ...       0.0     1.0  0.666667   \n",
            "4       0.0          1.0        0.0  ...       0.0     1.0  0.666667   \n",
            "\n",
            "   MiscFeature  MiscVal    MoSold  YrSold  SaleType  SaleCondition  SalePrice  \n",
            "0     0.666667      0.0  0.090909    0.50       1.0            0.8   0.241078  \n",
            "1     0.666667      0.0  0.363636    0.25       1.0            0.8   0.203583  \n",
            "2     0.666667      0.0  0.727273    0.50       1.0            0.8   0.261908  \n",
            "3     0.666667      0.0  0.090909    0.00       1.0            0.0   0.145952  \n",
            "4     0.666667      0.0  1.000000    0.50       1.0            0.8   0.298709  \n",
            "\n",
            "[5 rows x 81 columns]\n"
          ]
        }
      ]
    },
    {
      "cell_type": "code",
      "source": [
        "# Save processed dataset\n",
        "df.to_csv(\"processed_train.csv\", index=False)\n",
        "\n",
        "print(\"\\nData Preprocessing Completed and Saved Successfully!\")"
      ],
      "metadata": {
        "colab": {
          "base_uri": "https://localhost:8080/"
        },
        "id": "k34NvHdhgQyp",
        "outputId": "a94aa062-6546-447c-bde6-91438c62be28"
      },
      "execution_count": 16,
      "outputs": [
        {
          "output_type": "stream",
          "name": "stdout",
          "text": [
            "\n",
            "Data Preprocessing Completed and Saved Successfully!\n"
          ]
        }
      ]
    }
  ]
}